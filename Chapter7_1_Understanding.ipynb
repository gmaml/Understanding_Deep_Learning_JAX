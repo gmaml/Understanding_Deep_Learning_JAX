{
  "nbformat": 4,
  "nbformat_minor": 0,
  "metadata": {
    "colab": {
      "provenance": [],
      "gpuType": "T4"
    },
    "kernelspec": {
      "name": "python3",
      "display_name": "Python 3"
    },
    "language_info": {
      "name": "python"
    },
    "accelerator": "GPU"
  },
  "cells": [
    {
      "cell_type": "code",
      "execution_count": 3,
      "metadata": {
        "colab": {
          "base_uri": "https://localhost:8080/",
          "height": 35
        },
        "id": "xl0g82KYHJb0",
        "outputId": "2fa7d6c5-cbf8-4ae9-9705-6c9680671133"
      },
      "outputs": [
        {
          "output_type": "execute_result",
          "data": {
            "text/plain": [
              "'0.4.14'"
            ],
            "application/vnd.google.colaboratory.intrinsic+json": {
              "type": "string"
            }
          },
          "metadata": {},
          "execution_count": 3
        }
      ],
      "source": [
        "import jax.numpy as jnp\n",
        "from jax.typing import ArrayLike\n",
        "from jax import Array\n",
        "import jax\n",
        "#jax.config.update('jax_array', True)\n",
        "jax.__version__"
      ]
    },
    {
      "cell_type": "code",
      "source": [
        "def fn(x:ArrayLike, beta0:float, beta1:float, beta2:float, beta3:float, omega0:float, omega1:float, omega2:float, omega3:float)->Array:\n",
        "  return beta3+omega3 * jnp.cos(beta2 + omega2 * jnp.exp(beta1 + omega1 * jnp.sin(beta0 + omega0 * x)))\n",
        "\n",
        "def likelihood(x:ArrayLike, y:ArrayLike, beta0, beta1, beta2, beta3, omega0, omega1, omega2, omega3):\n",
        "  diff = fn(x, beta0, beta1, beta2, beta3, omega0, omega1, omega2, omega3) - y ;\n",
        "  return diff * diff ;"
      ],
      "metadata": {
        "id": "26_78_M6Hymm"
      },
      "execution_count": 4,
      "outputs": []
    },
    {
      "cell_type": "code",
      "source": [
        "beta0 = 1.0; beta1 = 2.0; beta2 = -3.0; beta3 = 0.4;\n",
        "omega0 = 0.1; omega1 = -0.4; omega2 = 2.0; omega3 = 3.0;\n",
        "x = 2.3; y =2.0\n",
        "l_i_func = likelihood(x,y,beta0,beta1,beta2,beta3,omega0,omega1,omega2,omega3)\n",
        "print('l_i=%3.3f'%l_i_func)"
      ],
      "metadata": {
        "colab": {
          "base_uri": "https://localhost:8080/"
        },
        "id": "dIJ_xNRMJgBU",
        "outputId": "535ecace-1cdd-4d5b-bbaf-661dcf526c74"
      },
      "execution_count": 5,
      "outputs": [
        {
          "output_type": "stream",
          "name": "stdout",
          "text": [
            "l_i=0.139\n"
          ]
        }
      ]
    },
    {
      "cell_type": "code",
      "source": [
        "dldbeta3_func = 2 * (beta3 +omega3 * jnp.cos(beta2 + omega2 * jnp.exp(beta1+omega1 * jnp.sin(beta0+omega0 * x)))-y)\n",
        "dldomega0_func = -2 *(beta3 +omega3 * jnp.cos(beta2 + omega2 * jnp.exp(beta1+omega1 * jnp.sin(beta0+omega0 * x)))-y) * \\\n",
        "              omega1 * omega2 * omega3 * x * jnp.cos(beta0 + omega0 * x) * jnp.exp(beta1 +omega1 * jnp.sin(beta0 + omega0 * x)) *\\\n",
        "              jnp.sin(beta2 + omega2 * jnp.exp(beta1+ omega1* jnp.sin(beta0+omega0 * x)))"
      ],
      "metadata": {
        "id": "BFhhCE5RLMXf"
      },
      "execution_count": 6,
      "outputs": []
    },
    {
      "cell_type": "code",
      "source": [
        "dldomega0_fd = (likelihood(x,y,beta0,beta1,beta2,beta3,omega0+0.00001,omega1,omega2,omega3)-likelihood(x,y,beta0,beta1,beta2,beta3,omega0,omega1,omega2,omega3))/0.00001\n",
        "\n",
        "print('dydomega0: Function value = %3.3f, Finite difference value = %3.3f'%(dldomega0_func,dldomega0_fd))"
      ],
      "metadata": {
        "colab": {
          "base_uri": "https://localhost:8080/"
        },
        "id": "eCUQuyPaLWKm",
        "outputId": "9878f192-2c75-4c89-944f-2603828a649e"
      },
      "execution_count": 7,
      "outputs": [
        {
          "output_type": "stream",
          "name": "stdout",
          "text": [
            "dydomega0: Function value = 5.246, Finite difference value = 5.290\n"
          ]
        }
      ]
    },
    {
      "cell_type": "code",
      "source": [
        "f0 = beta0 + omega0 * x\n",
        "h1 = jnp.sin(f0)\n",
        "f1 = beta1 + omega1 * h1\n",
        "h2 = jnp.exp(f1)\n",
        "f2 = beta2 + omega2 * h2\n",
        "h3 = jnp.cos(f2)\n",
        "f3 = beta3 + omega3 * h3\n",
        "l_i = (f3-y) ** 2"
      ],
      "metadata": {
        "id": "-ga8SgGfL07k"
      },
      "execution_count": 8,
      "outputs": []
    },
    {
      "cell_type": "code",
      "source": [
        "# Let's check we got that right:\n",
        "print(\"f0: true value = %3.3f, your value = %3.3f\"%(1.230, f0))\n",
        "print(\"h1: true value = %3.3f, your value = %3.3f\"%(0.942, h1))\n",
        "print(\"f1: true value = %3.3f, your value = %3.3f\"%(1.623, f1))\n",
        "print(\"h2: true value = %3.3f, your value = %3.3f\"%(5.068, h2))\n",
        "print(\"f2: true value = %3.3f, your value = %3.3f\"%(7.137, f2))\n",
        "print(\"h3: true value = %3.3f, your value = %3.3f\"%(0.657, h3))\n",
        "print(\"f3: true value = %3.3f, your value = %3.3f\"%(2.372, f3))\n",
        "print(\"like original = %3.3f, like from forward pass = %3.3f\"%(l_i_func, l_i))\n"
      ],
      "metadata": {
        "colab": {
          "base_uri": "https://localhost:8080/"
        },
        "id": "ZpSGTB_xNBny",
        "outputId": "ff430422-96be-4ef3-a468-b07b4df42436"
      },
      "execution_count": 9,
      "outputs": [
        {
          "output_type": "stream",
          "name": "stdout",
          "text": [
            "f0: true value = 1.230, your value = 1.230\n",
            "h1: true value = 0.942, your value = 0.942\n",
            "f1: true value = 1.623, your value = 1.623\n",
            "h2: true value = 5.068, your value = 5.068\n",
            "f2: true value = 7.137, your value = 7.137\n",
            "h3: true value = 0.657, your value = 0.657\n",
            "f3: true value = 2.372, your value = 2.372\n",
            "like original = 0.139, like from forward pass = 0.139\n"
          ]
        }
      ]
    },
    {
      "cell_type": "code",
      "source": [
        "# TODO -- Compute the derivatives of the output with respect\n",
        "# to the intermediate computations h_k and f_k (i.e, run the backward pass)\n",
        "# I've done the first two for you.  You replace the code below:\n",
        "dldf3 = 2* (f3 - y)\n",
        "dldh3 = omega3 * dldf3\n",
        "# Replace the code below\n",
        "dldf2 =-jnp.sin(f2)*dldh3\n",
        "dldh2 = omega2 * dldf2\n",
        "dldf1 = jnp.exp(f1) * dldh2\n",
        "dldh1 = omega1* dldf1\n",
        "dldf0 = jnp.cos(f0)*dldh1\n"
      ],
      "metadata": {
        "id": "QQgEoEjnNKr-"
      },
      "execution_count": 19,
      "outputs": []
    },
    {
      "cell_type": "code",
      "source": [
        "# Let's check we got that right\n",
        "print(\"dldf3: true value = %3.3f, your value = %3.3f\"%(0.745, dldf3))\n",
        "print(\"dldh3: true value = %3.3f, your value = %3.3f\"%(2.234, dldh3))\n",
        "print(\"dldf2: true value = %3.3f, your value = %3.3f\"%(-1.683, dldf2))\n",
        "print(\"dldh2: true value = %3.3f, your value = %3.3f\"%(-3.366, dldh2))\n",
        "print(\"dldf1: true value = %3.3f, your value = %3.3f\"%(-17.060, dldf1))\n",
        "print(\"dldh1: true value = %3.3f, your value = %3.3f\"%(6.824, dldh1))\n",
        "print(\"dldf0: true value = %3.3f, your value = %3.3f\"%(2.281, dldf0))"
      ],
      "metadata": {
        "colab": {
          "base_uri": "https://localhost:8080/"
        },
        "id": "G8n_cGupQTYq",
        "outputId": "7744f201-2bd7-4a0d-c806-fc70bf6a3627"
      },
      "execution_count": 20,
      "outputs": [
        {
          "output_type": "stream",
          "name": "stdout",
          "text": [
            "dldf3: true value = 0.745, your value = 0.745\n",
            "dldh3: true value = 2.234, your value = 2.234\n",
            "dldf2: true value = -1.683, your value = -1.683\n",
            "dldh2: true value = -3.366, your value = -3.366\n",
            "dldf1: true value = -17.060, your value = -17.060\n",
            "dldh1: true value = 6.824, your value = 6.824\n",
            "dldf0: true value = 2.281, your value = 2.281\n"
          ]
        }
      ]
    },
    {
      "cell_type": "code",
      "source": [
        "dldbeta3 = dldf3\n",
        "dldomega3 = h3 * dldf3\n",
        "dldbeta2 = dldf2\n",
        "dldomega2 = h2 * dldf2\n",
        "dldbeta1 = dldf1\n",
        "dldomega1 = h1* dldf1\n",
        "dldbeta0 = dldf0\n",
        "dldomega0 = x * dldf0"
      ],
      "metadata": {
        "id": "P9AQPuzAQcm-"
      },
      "execution_count": 21,
      "outputs": []
    },
    {
      "cell_type": "code",
      "source": [
        "# Let's check we got them right\n",
        "print('dldbeta3: Your value = %3.3f, True value = %3.3f'%(dldbeta3, 0.745))\n",
        "print('dldomega3: Your value = %3.3f, True value = %3.3f'%(dldomega3, 0.489))\n",
        "print('dldbeta2: Your value = %3.3f, True value = %3.3f'%(dldbeta2, -1.683))\n",
        "print('dldomega2: Your value = %3.3f, True value = %3.3f'%(dldomega2, -8.530))\n",
        "print('dldbeta1: Your value = %3.3f, True value = %3.3f'%(dldbeta1, -17.060))\n",
        "print('dldomega1: Your value = %3.3f, True value = %3.3f'%(dldomega1, -16.079))\n",
        "print('dldbeta0: Your value = %3.3f, True value = %3.3f'%(dldbeta0, 2.281))\n",
        "print('dldomega0: Your value = %3.3f, Function value = %3.3f, Finite difference value = %3.3f'%(dldomega0, dldomega0_func, dldomega0_fd))"
      ],
      "metadata": {
        "colab": {
          "base_uri": "https://localhost:8080/"
        },
        "id": "1a_ZtErnTrMl",
        "outputId": "6446912b-600d-4f70-8cd3-c101122f59ae"
      },
      "execution_count": 22,
      "outputs": [
        {
          "output_type": "stream",
          "name": "stdout",
          "text": [
            "dldbeta3: Your value = 0.745, True value = 0.745\n",
            "dldomega3: Your value = 0.489, True value = 0.489\n",
            "dldbeta2: Your value = -1.683, True value = -1.683\n",
            "dldomega2: Your value = -8.530, True value = -8.530\n",
            "dldbeta1: Your value = -17.060, True value = -17.060\n",
            "dldomega1: Your value = -16.079, True value = -16.079\n",
            "dldbeta0: Your value = 2.281, True value = 2.281\n",
            "dldomega0: Your value = 5.246, Function value = 5.246, Finite difference value = 5.290\n"
          ]
        }
      ]
    },
    {
      "cell_type": "code",
      "source": [],
      "metadata": {
        "id": "9yM1YfnHT7xc"
      },
      "execution_count": null,
      "outputs": []
    }
  ]
}